{
 "cells": [
  {
   "attachments": {},
   "cell_type": "markdown",
   "metadata": {},
   "source": [
    "# Hack\n",
    "- title: Hacks\n",
    "- toc: true\n",
    "- layout: base\n",
    "- badges: true\n",
    "- categories: [. Practice]\n",
    "- description: Hacks"
   ]
  },
  {
   "attachments": {},
   "cell_type": "markdown",
   "metadata": {},
   "source": [
    "# Introduction\n",
    "\n",
    "When building an application that requires users to create accounts or sign in, handling data related to users is crucial. This data can include things like user profiles, preferences, and activity logs, which can be used to personalize the user experience and improve the application's performance.\n",
    "\n",
    "By learning how to handle data related to users effectively and efficiently, you'll be equipped with the skills and knowledge needed to build helpful applications that meet the needs of your users.\n",
    "\n",
    "**PLEASE DON'T OPEN THE POPCORN HACKS, WE WILL OPEN THEM DURING THE PRESENTATION**"
   ]
  },
  {
   "attachments": {},
   "cell_type": "markdown",
   "metadata": {},
   "source": [
    "## Basics of Class and User Data\n",
    "\n",
    "#### Establishing Class/User Data and making a new user\n",
    "\n",
    "Because Python is an object-oriented programming (OOP) language, everything in it represents an object. Lists, dictionaries, functions, etc. are all examples of Python objects. Generally speaking, a Python object is an entity of data items and methods describing the behavior of those items.\n",
    "\n",
    "A Python **class** is a template used to create Python objects. We can think of it as a cooking recipe, where all the ingredients and their quantities are listed, and the whole process of cooking is described step-by-step. \n",
    "\n",
    "In this case, we can compare a cake recipe to a class, and a cake cooked following that recipe to an object (i.e., an instance of that class). Using the same recipe (class), we can create many cakes (objects). This is the essence of creating a class in Python: to define data elements and the rules establishing how these elements can interact and change their state — and then use this framework to build various objects in a set way, instead of creating them from scratch every time.\n",
    "\n",
    "Let's look at a few examples:"
   ]
  },
  {
   "cell_type": "code",
   "execution_count": 2,
   "metadata": {},
   "outputs": [],
   "source": [
    "# create class\n",
    "class Bikes:\n",
    "    name = \"\"\n",
    "    gear = 0\n",
    "\n",
    "# create objects of class\n",
    "bike1 = Bikes() # objectName = ClassName()\n",
    "bike2 = Bikes()"
   ]
  },
  {
   "attachments": {},
   "cell_type": "markdown",
   "metadata": {},
   "source": [
    "Now that we have our class and object defined, we can now run code to modify certain attributes of our objects."
   ]
  },
  {
   "cell_type": "code",
   "execution_count": 3,
   "metadata": {},
   "outputs": [
    {
     "name": "stdout",
     "output_type": "stream",
     "text": [
      "Name: Mountain Bike, Gears: 11 \n"
     ]
    }
   ],
   "source": [
    "# access attributes and assign new values\n",
    "bike1.gear = 11\n",
    "bike1.name = \"Mountain Bike\"\n",
    "\n",
    "bike2.gear = 13\n",
    "bike2.name = \"Road Bike\"\n",
    "\n",
    "print(f\"Name: {bike1.name}, Gears: {bike1.gear} \")"
   ]
  },
  {
   "attachments": {},
   "cell_type": "markdown",
   "metadata": {},
   "source": [
    "<details>\n",
    "  <summary>Popcorn Hacks #1:</summary>\n",
    "  \n",
    "Add another print command to display the attributes of Bike #2. What output will this code segment produce?\n",
    "  \n",
    "\n",
    "  \n",
    "</details>"
   ]
  },
  {
   "cell_type": "code",
   "execution_count": 4,
   "metadata": {},
   "outputs": [
    {
     "name": "stdout",
     "output_type": "stream",
     "text": [
      "Name: Road Bike, Gears: 13 \n"
     ]
    }
   ],
   "source": [
    "# Hacks can go here!\n",
    "print(f\"Name: {bike2.name}, Gears: {bike2.gear} \")\n",
    "# This code segment will produce Road Bike and 13 for the gear"
   ]
  },
  {
   "attachments": {},
   "cell_type": "markdown",
   "metadata": {},
   "source": [
    "**Example: Defining a User Class**\n",
    "\n",
    "Now we will look into Classes for users of a program or website."
   ]
  },
  {
   "cell_type": "code",
   "execution_count": null,
   "metadata": {},
   "outputs": [],
   "source": [
    "class User:\n",
    "    def __init__(self, username, email):\n",
    "        self.username = username\n",
    "        self.email = email\n",
    "\n",
    "    def display_info(self):\n",
    "        print(f\"Username: {self.username}, Email: {self.email}\")\n"
   ]
  },
  {
   "attachments": {},
   "cell_type": "markdown",
   "metadata": {},
   "source": [
    "For this cell, we define a User class with a _____ method \"init\" that takes username and email as _____. The display_info method is used to print the user information.\n",
    "\n",
    "For backend functionality, this class can be used to create, manipulate, and manage user data. For example, when a new user signs up for an account, you could create a new User object with their username and email. This object can then be used to perform various operations, such as validating the user's input, storing the user's data in a database, or processing user-related requests."
   ]
  },
  {
   "attachments": {},
   "cell_type": "markdown",
   "metadata": {},
   "source": [
    "Now let's make a new User:"
   ]
  },
  {
   "cell_type": "code",
   "execution_count": null,
   "metadata": {},
   "outputs": [],
   "source": [
    "new_user = User(\"jeffrey\", \"leejeffreysc@gmail.com\")\n",
    "new_user.display_info()"
   ]
  },
  {
   "attachments": {},
   "cell_type": "markdown",
   "metadata": {},
   "source": [
    "Here's a step-by-step breakdown of how the code relates to backend functionality:\n",
    "\n",
    "new_user = User(\"jeffrey\", \"leejeffreysc@gmail.com\"): This line creates a new User object, initializing it with the username \"jeffrey\" and the email \"leejeffreysc@gmail.com\". This could represent a user who has just signed up for an account, and the input values would typically come from user input, such as a frontend signup form.\n",
    "\n",
    "new_user.display_info(): This line calls the display_info method on the new_user object, which prints the user's information (username and email) to the console. In a real-world backend application, you might use this method or a similar one to display user information in logs, send a welcome email, or create an API response with the user's data.\n",
    "\n",
    "\n",
    "## User/Class @ Decorators:\n",
    "\n",
    "A Python Class allows for the use of @ decorators, these allow access to attribute data without the use of functions.\n",
    "\n",
    "- @property decorator (aka getter).  This enables developers to \"GET\" attribute data in a clean method (object.name versus object.get_name())\n",
    "- @name.setter decorator (aka setter).  This enables developers to \"UPDATE\"/set attribute data in a clean method (object.name = \"Jeffrey\" versus object.set_name(\"Jeffrey\"))\n",
    "\n",
    "The getter and setter methods provide a clean and controlled way to _____ and _____ the attributes of an object. This can be particularly useful when interacting with databases, APIs, or other parts of a web application that require the management and manipulation of object attributes.\n"
   ]
  },
  {
   "cell_type": "code",
   "execution_count": 5,
   "metadata": {},
   "outputs": [],
   "source": [
    "class Student:\n",
    "    def __init__(self, student, name):\n",
    "        self._student = student\n",
    "        self._name = name\n",
    "\n",
    "    @property\n",
    "    def name(self):\n",
    "        return self._name\n",
    "\n",
    "    @name.setter\n",
    "    def name(self, new_name):\n",
    "        self._name = new_name\n"
   ]
  },
  {
   "attachments": {},
   "cell_type": "markdown",
   "metadata": {},
   "source": [
    "In this example, the Student class has a name attribute, which is accessed and modified through the name property getter and setter methods. The _name attribute uses an underscore prefix, which is a convention to indicate it should not be accessed directly.\n",
    "\n",
    "Usage of the getter and setter methods are below:"
   ]
  },
  {
   "cell_type": "code",
   "execution_count": null,
   "metadata": {},
   "outputs": [],
   "source": [
    "student = Student(1001, \"Derek Sol\")\n",
    "print(student.name)  # Get the name using the getter method\n",
    "\n",
    "student.name = \"Jagger Klein\"  # Set the name using the setter method\n",
    "print(student.name)"
   ]
  },
  {
   "attachments": {},
   "cell_type": "markdown",
   "metadata": {},
   "source": [
    "<details>\n",
    "  <summary>Popcorn Hacks #2:</summary>\n",
    "  \n",
    "The following code segment for computers does not have getter and setter methods called. Using the missing attributes \"model\" and \"year\", add example getter and setters methods for this class. Show us an example output that this code segment might produce.\n",
    "  \n",
    "\n",
    "  \n",
    "</details>"
   ]
  },
  {
   "cell_type": "code",
   "execution_count": 20,
   "metadata": {},
   "outputs": [],
   "source": [
    "class Computer:\n",
    "    def __init__(self, model, year):\n",
    "        self._model = model\n",
    "        self._year = year\n",
    "\n",
    "    @property\n",
    "    def model(self):\n",
    "        return self._model\n",
    "\n",
    "    @model.setter\n",
    "    def model(self, new_model):\n",
    "        self._model = new_model\n",
    "\n",
    "    @property\n",
    "    def year(self):\n",
    "        return self._year\n",
    "\n",
    "    @year.setter\n",
    "    def year(self, new_year):\n",
    "        self._year = new_year\n",
    "        "
   ]
  },
  {
   "cell_type": "code",
   "execution_count": 9,
   "metadata": {},
   "outputs": [
    {
     "name": "stdout",
     "output_type": "stream",
     "text": [
      "1001\n",
      "1001\n",
      "Derek Sol\n",
      "Jagger Klein\n"
     ]
    }
   ],
   "source": [
    "# Hacks can go here!\n",
    "self = Computer(1001, \"Derek Sol\")\n",
    "print(self.model)  # Get the name using the getter method\n",
    "\n",
    "self.year = \"Jagger Klein\"  # Set the name using the setter method\n",
    "print(self.model)\n",
    "\n",
    "self = Computer(1001, \"Derek Sol\")\n",
    "print(self.year)  # Get the name using the getter method\n",
    "\n",
    "self.year = \"Jagger Klein\"  # Set the name using the setter method\n",
    "print(self.year)"
   ]
  },
  {
   "attachments": {},
   "cell_type": "markdown",
   "metadata": {},
   "source": [
    "# Databases and SQLite\n",
    "A database is a structured collection of data that is organized and stored in a way that allows for efficient retrieval, manipulation, and management of that data. In other words, a database is a software application that allows you to store and manage large amounts of data in an organized manner.\n",
    "\n",
    "Some Examples of Databases:\n",
    "- Storing and managing customer data, such as contact information, order history, and customer preferences.\n",
    "- Keeping track of inventory levels and stock movements in a warehouse or retail store.\n",
    "- Managing financial transactions, such as payments, invoices, and receipts.\n",
    "\n",
    "SQLite is a software application that provides a user-friendly database management system. Unlike other databases, such as MySQL or PostgreSQL, SQLite is programmed within an application, which means it does not require a separate server process to operate. This makes SQLite great for web applications or for use in situations where you don't need a full database server.\n",
    "\n",
    "In this lesson, we will be demonstrating how to set up a SQLite database in Flask, a Python web framework. Flask allows programmers to easily interact with SQLite databases, and we'll walk through the process of setting up a new database, creating tables, and adding data. We'll also cover some basic SQL commands that you can use to interact with your database, including CREATE TABLE, INSERT, SELECT, UPDATE, and DELETE.\n",
    "\n",
    "## Setting up a SQLite database in Flask"
   ]
  },
  {
   "cell_type": "code",
   "execution_count": 10,
   "metadata": {},
   "outputs": [],
   "source": [
    "# Import the Flask and SQLite libraries\n",
    "from flask import Flask\n",
    "import sqlite3\n",
    "\n",
    "# Create a Flask application\n",
    "app = Flask(__name__)\n",
    "   \n",
    "# Connect to the SQLite database using SQLite3\n",
    "conn = sqlite3.connect('database.db')\n",
    "\n",
    "# Create a cursor object to execute SQL commands\n",
    "cursor = conn.cursor()\n",
    "\n",
    "# Create a table in the database using SQL commands\n",
    "cursor.execute('''CREATE TABLE students\n",
    "                 (id INTEGER PRIMARY KEY, name TEXT, grade INTEGER)''')\n",
    "\n",
    "# Commit the changes to the database\n",
    "conn.commit()\n",
    "\n",
    "# Close the connection\n",
    "conn.close()"
   ]
  },
  {
   "attachments": {},
   "cell_type": "markdown",
   "metadata": {},
   "source": [
    "*Note: This will create a new file 'database.db' in the _notebooks folder if one doesn't exist.*\n",
    "\n",
    "Breaking down this code segment:\n",
    "- We imported the necessary libraries and tools \n",
    "- We created a Flask application \n",
    "- We connected to the SQLite database using SQLite3 \n",
    "- We created a cursor object to execute SQL commands \n",
    "- We created tables in the database using SQL commands \n",
    "\n",
    "Flask provides several extensions and tools for working with SQLite databases, including Flask-SQLAlchemy, Flask-SQLite3, and Flask-Admin. These tools provide a high-level interface for interacting with the database, making it easy to perform common operations such as adding, updating, and deleting records."
   ]
  },
  {
   "attachments": {},
   "cell_type": "markdown",
   "metadata": {},
   "source": [
    "## CRUD Commands with SQLite\n",
    "CRUD stands for Create, Read, Update, and Delete, which are the basic operations you can perform on data. SQL is useful library because it allows programmers to create new tables to organize data, add new data to a table, update data that's already there, or delete data that's no longer needed.\n",
    "\n",
    "- C: To create a new record in a database, you must first define the table structure that will store the data. This can be accomplished using SQL commands such as CREATE. Once the table is created, data can be added to it using the INSERT INTO command.\n",
    "\n",
    "- R: To retrieve data from the database, you can use the READ command. You can specify which fields you want to retrieve and the conditions you want to apply using the WHERE clause. There are also several functions available to aggregate and manipulate data.\n",
    "\n",
    "- U: To modify existing data in the database, you can use the UPDATE command. You will need to specify which table and fields you want to update, and the conditions you want to apply using the WHERE clause.\n",
    "\n",
    "- D: To remove data from the database, you can use the DELETE command."
   ]
  },
  {
   "attachments": {},
   "cell_type": "markdown",
   "metadata": {},
   "source": [
    "## Example of CRUD within an SQLite Database"
   ]
  },
  {
   "cell_type": "code",
   "execution_count": 12,
   "metadata": {},
   "outputs": [],
   "source": [
    "# Import the Flask and SQLite libraries\n",
    "from flask import Flask\n",
    "import sqlite3\n",
    "\n",
    "# Create a Flask application\n",
    "app = Flask(__name__)\n",
    "   \n",
    "# Connect to the SQLite database using SQLite3\n",
    "conn = sqlite3.connect('database.db')\n",
    "\n",
    "# Create a cursor object to execute SQL commands\n",
    "cursor = conn.cursor()\n",
    "\n",
    "# Create a table in the database using SQL commands\n",
    "cursor.execute('''CREATE TABLE basketball\n",
    "                 (_player TEXT PRIMARY KEY, _team TEXT, _position TEXT, _opinion TEXT)''')\n",
    "\n",
    "# Commit the changes to the database\n",
    "conn.commit()\n",
    "\n",
    "# Close the connection\n",
    "conn.close()"
   ]
  },
  {
   "attachments": {},
   "cell_type": "markdown",
   "metadata": {},
   "source": [
    "Hypothetically, our programmer wanted to create an application about basketball players, and created a new table in SQL to store and interact with user-submitted data. Using the same method as the previous table, a new table 'basketball' is created by the cursor and added to the 'database.db' file."
   ]
  },
  {
   "attachments": {},
   "cell_type": "markdown",
   "metadata": {},
   "source": [
    "## Create Function:"
   ]
  },
  {
   "cell_type": "code",
   "execution_count": 13,
   "metadata": {},
   "outputs": [
    {
     "name": "stdout",
     "output_type": "stream",
     "text": [
      "New basketball with Lebron James is added.\n"
     ]
    }
   ],
   "source": [
    "def create():\n",
    "   \n",
    "   database = 'database.db'\n",
    "   player = input(\"Enter the player name\")\n",
    "   team = input(\"Enter team name\")\n",
    "   position = input(\"Enter player position\")\n",
    "   opinion = input(\"Enter your opinion \")\n",
    "\n",
    "   # Connecting to the database, create cursor to execute the SQL command\n",
    "   connection = sqlite3.connect(database)\n",
    "   cursor = connection.cursor()\n",
    "\n",
    "   try:\n",
    "       # Execute SQL to insert record in to db\n",
    "       cursor.execute(\"INSERT INTO basketball (_player, _team, _position, _opinion) VALUES (?, ?, ?, ?)\", (player, team, position, opinion))\n",
    "       # Commit the changes\n",
    "       connection.commit()\n",
    "       print(f\"New basketball with {player} is added.\")\n",
    "              \n",
    "   except sqlite3.Error as error:\n",
    "       print(\"Error while inserting record\", error)\n",
    "\n",
    "   # Closing cursor and connection\n",
    "   cursor.close()\n",
    "   connection.close()\n",
    "  \n",
    "create()"
   ]
  },
  {
   "attachments": {},
   "cell_type": "markdown",
   "metadata": {},
   "source": [
    "The create() feature allows users to input information about a basketball player and store it in a SQLite table 'basketball' inside the database file we already created 'database.db'. The code prompts the user for the player's name, team name, position, and their opinion about the player, then establishes a connection to the SQLite database and creates a cursor object for executing SQL commands. \n",
    "\n",
    "The cursor.execute() method is called with an SQL INSERT command to insert a new entry into the 'basketball' table. The connection.commit() method saves the changes to the database, and if the record is inserted successfully, a confirmation message is printed. In case of errors, the except block catches the sqlite3.Error exception and prints an error message. Finally, the cursor and the connection to the database are closed, and the create() function is called to execute the code."
   ]
  },
  {
   "attachments": {},
   "cell_type": "markdown",
   "metadata": {},
   "source": [
    "## Read Function:"
   ]
  },
  {
   "cell_type": "code",
   "execution_count": 15,
   "metadata": {},
   "outputs": [
    {
     "name": "stdout",
     "output_type": "stream",
     "text": [
      "('Lebron James', 'Lakers', 'Small Forward', 'He is good')\n"
     ]
    }
   ],
   "source": [
    "def read():\n",
    "\n",
    "   database = 'database.db'\n",
    "   # Connecting to the database, create cursor to execute the SQL command\n",
    "   connection = sqlite3.connect(database)\n",
    "   cursor = connection.cursor()\n",
    "  \n",
    "   # Fetch all the records from basketball table\n",
    "   results = cursor.execute('SELECT * FROM basketball').fetchall()\n",
    "\n",
    "   if len(results) != 0:\n",
    "       for row in results:\n",
    "           print(row)\n",
    "   else:\n",
    "       print(\"No player found.\")\n",
    "\n",
    "   # Closing cursor and connection\n",
    "   cursor.close()\n",
    "   connection.close()\n",
    "\n",
    "read()"
   ]
  },
  {
   "attachments": {},
   "cell_type": "markdown",
   "metadata": {},
   "source": [
    "The read() feature retrieves and prints all entries from the 'basketball' table in the specified SQLite database. The script establishes a connection to the SQLite database, creates a cursor object for executing SQL commands, and calls the cursor.execute() method with an SQL SELECT command to fetch all the entires from the 'basketball' table. The fetchall() method retrieves all the rows returned by the SELECT command and stores them in the results variable. \n",
    "\n",
    "The code then checks if there are any records in the table and, if so, iterates through each row in the results using a 'for loop' and prints the row. If there are no records, the program prints \"No player found\". Finally, the cursor and the connection to the database are closed, and the read() function is called to execute the code."
   ]
  },
  {
   "attachments": {},
   "cell_type": "markdown",
   "metadata": {},
   "source": [
    "## Update Function:"
   ]
  },
  {
   "cell_type": "code",
   "execution_count": 17,
   "metadata": {},
   "outputs": [
    {
     "name": "stdout",
     "output_type": "stream",
     "text": [
      "Player not found.\n"
     ]
    }
   ],
   "source": [
    "import sqlite3\n",
    "\n",
    "def update(): \n",
    "  \n",
    "   database = 'database.db'\n",
    "   player = input(\"Enter a basketball player to update the opinion for:\")\n",
    "   opinion = input(\"Enter new opinion:\")\n",
    "\n",
    "  # Connecting to the database, create cursor to execute the SQL command\n",
    "   connection = sqlite3.connect(database)\n",
    "   cursor = connection.cursor()\n",
    "\n",
    "   try:\n",
    "       # Updating review for the basketball\n",
    "       cursor.execute(\"UPDATE basketball SET _opinion = ? WHERE _player = ?\", (opinion, player))\n",
    "       if cursor.rowcount != 0:\n",
    "           print(f\"Review for the basketball is updated to {opinion}\")\n",
    "           connection.commit()\n",
    "       else:\n",
    "           print(f\"Player not found.\")\n",
    "   except sqlite3.Error as error:\n",
    "       print(\"Error occurred\", error)\n",
    "      \n",
    "   # Closing cursor and connection\n",
    "   cursor.close()\n",
    "   connection.close()\n",
    "\n",
    "update()"
   ]
  },
  {
   "attachments": {},
   "cell_type": "markdown",
   "metadata": {},
   "source": [
    "This update feature updates the opinion for a specific basketball player in an SQLite database. The code defines an update() function, which prompts the user to input the basketball player they want to update and the new opinion for that player. The script connects to the SQLite database, creates a cursor object, and handles any potential errors while executing the SQL command. The cursor.execute() method updates the review in the database for the specified basketball item. \n",
    "\n",
    "If at least one value is changed, a success message is printed and the changes are committed to the database. Otherwise, a \"Player not found.\" message is displayed. In the except block, if an error occurs, an error message along with specific error details is printed. Finally, the cursor and connection to the database are closed, and the update() function is called to execute the review update process."
   ]
  },
  {
   "attachments": {},
   "cell_type": "markdown",
   "metadata": {},
   "source": [
    "## Delete Function"
   ]
  },
  {
   "cell_type": "code",
   "execution_count": 1,
   "metadata": {},
   "outputs": [
    {
     "name": "stdout",
     "output_type": "stream",
     "text": [
      "Error occurred:  no such table: basketball\n"
     ]
    }
   ],
   "source": [
    "import sqlite3\n",
    "\n",
    "def delete():\n",
    "  \n",
    "   database = 'database.db'\n",
    "   player = input(\"Enter basketball player to delete\")\n",
    "\n",
    "   # Connecting to the database, create cursor to execute the SQL command\n",
    "   connection = sqlite3.connect(database)\n",
    "   cursor = connection.cursor()\n",
    "  \n",
    "   try:\n",
    "       cursor.execute(\"DELETE FROM basketball WHERE _player = ?\", (player,))\n",
    "       if cursor.rowcount == 0:\n",
    "           print(f\"{player} does not exist\")\n",
    "       else:\n",
    "           print(f\"Successfully deleted basketball player {player}\")\n",
    "       connection.commit()\n",
    "   except sqlite3.Error as error:\n",
    "       print(\"Error occurred: \", error)\n",
    "      \n",
    "   # Closing cursor and connection\n",
    "   cursor.close()\n",
    "   connection.close()\n",
    "\n",
    "delete()"
   ]
  },
  {
   "attachments": {},
   "cell_type": "markdown",
   "metadata": {},
   "source": [
    "The delete feature deletes a specific basketball player from the specified SQLite database. The code defines a delete() function that prompts the user to input the basketball player they want to delete. After connecting to the SQLite database and creating a cursor object, the code handles potential errors while executing the SQL command. The cursor.execute() method is used to delete the basketball item with the specified ID. \n",
    "\n",
    "If no rows are affected, a message is printed indicating that the basketball player does not exist. Otherwise, a success message is displayed, confirming the basketball player's deletion. The changes are then committed to the database. In the except block, any error that occurs triggers an error message along with specific error details. Finally, the cursor and connection to the database are closed, and the delete() function is called to execute the basketball item deletion process. This code showcases a practical way to remove information from an SQLite database based on user input."
   ]
  },
  {
   "attachments": {},
   "cell_type": "markdown",
   "metadata": {},
   "source": [
    "## Menu Functions:\n",
    "\n",
    "Alongside the four CRUD functions, a menu function is designed to manage Create, Read, Update, Delete operations and display the schema. The menu function is responsible for taking in user inputs and making the program call various functions. When running a menu function, users enter their desired operation, whether it be Create, Read, Update, or Delete, and the input is checked by various conditions to determine which function should be called. Many menu functions are called recursively, so the cell will repeat the menu process until the user decides to exit."
   ]
  },
  {
   "attachments": {},
   "cell_type": "markdown",
   "metadata": {},
   "source": [
    "<details>\n",
    "  <summary>Popcorn Hacks #3:</summary>\n",
    "  \n",
    "The menu function below is missing some of the CRUD functions for the specified basketball players table. Fix the following code by adding the intended CRUD functions, then perform a READ function on the database.\n",
    "  \n",
    "</details>"
   ]
  },
  {
   "cell_type": "code",
   "execution_count": 2,
   "metadata": {},
   "outputs": [],
   "source": [
    "def menu():\n",
    "   operation = input(\"Enter: (C)reate (R)ead (U)pdate or (D)elete\")\n",
    "   if operation.lower() == 'c':\n",
    "       create()\n",
    "   if operation.lower() == 'r':\n",
    "       read()\n",
    "   if operation.lower() == 'u':\n",
    "       update()\n",
    "   if operation.lower() == 'd':\n",
    "       delete()\n",
    "   elif len(operation)==0: # Escape Key\n",
    "       return\n",
    "   else:\n",
    "       print(\"Please enter c, r, u, or d\")\n",
    "   menu() # recursion, repeat menu\n",
    "try:\n",
    "   menu() # start menu\n",
    "except:\n",
    "   print(\"Perform Jupyter 'Run All' prior to starting menu\")"
   ]
  },
  {
   "attachments": {},
   "cell_type": "markdown",
   "metadata": {},
   "source": [
    "## Image Uploading with SQLite\n",
    "\n",
    "Using various Python Libraries, we are able to upload and customize images using python code, as well as using images to interact with databases. \n",
    "\n",
    "One way to store images in a database is to INSERT the image data as a binary blob.\n",
    "\n",
    "To store an image as a blob in SQLite, you can first read the image file and convert it to a binary format using a programming language like Python. Here's an example of how to do this:"
   ]
  },
  {
   "attachments": {},
   "cell_type": "markdown",
   "metadata": {},
   "source": [
    "## Making the Table to store our Image Data:"
   ]
  },
  {
   "cell_type": "code",
   "execution_count": null,
   "metadata": {},
   "outputs": [],
   "source": [
    "# Import the Flask and SQLite libraries\n",
    "from flask import Flask\n",
    "import sqlite3\n",
    "\n",
    "# Create a Flask application\n",
    "app = Flask(__name__)\n",
    "   \n",
    "# Connect to the SQLite database using SQLite3\n",
    "conn = sqlite3.connect('database.db')\n",
    "\n",
    "# Create a cursor object to execute SQL commands\n",
    "cursor = conn.cursor()\n",
    "\n",
    "# Create a table in the database using SQL commands\n",
    "cursor.execute('''CREATE TABLE images\n",
    "                 (name TEXT PRIMARY KEY, data BLOB)''')\n",
    "\n",
    "# Commit the changes to the database\n",
    "conn.commit()\n",
    "\n",
    "# Close the connection\n",
    "conn.close()"
   ]
  },
  {
   "attachments": {},
   "cell_type": "markdown",
   "metadata": {},
   "source": [
    "We use a new data type \"BLOB\" to store specific data from our .jpg image. \n",
    "\n",
    "## Adding Image Data to our Table:\n",
    "\n",
    "*You can use this example sunset jpg for our code. Download and place it in the same repository as this notebook. Rename image to 'image.jpg'*\n",
    "\n",
    "https://t4.ftcdn.net/jpg/01/04/78/75/360_F_104787586_63vz1PkylLEfSfZ08dqTnqJqlqdq0eXx.jpg"
   ]
  },
  {
   "cell_type": "code",
   "execution_count": null,
   "metadata": {},
   "outputs": [],
   "source": [
    "import sqlite3\n",
    "\n",
    "# Open a connection to the SQLite database\n",
    "conn = sqlite3.connect('database.db')\n",
    "\n",
    "# Read the image file as binary data\n",
    "with open('image.jpg', 'rb') as jpg:\n",
    "    image_data = jpg.read()\n",
    "\n",
    "# Insert the image data into the database\n",
    "conn.execute(\"INSERT INTO images (name, data) VALUES (?, ?)\", ('image', image_data))\n",
    "\n",
    "# Commit the transaction\n",
    "conn.commit()\n",
    "\n",
    "# Close the connection\n",
    "conn.close()"
   ]
  },
  {
   "attachments": {},
   "cell_type": "markdown",
   "metadata": {},
   "source": [
    "In this example, the image data is read from the \"image.jpg\" file and inserted into the \"images\" table in the \"database.db\" SQLite database. The image data is then stored as a binary blob in the \"data\" column of the table."
   ]
  },
  {
   "attachments": {},
   "cell_type": "markdown",
   "metadata": {},
   "source": [
    "## Converting BLOB to Image -> Displaying Image"
   ]
  },
  {
   "cell_type": "code",
   "execution_count": null,
   "metadata": {},
   "outputs": [],
   "source": [
    "import sqlite3\n",
    "from PIL import Image\n",
    "import io\n",
    "\n",
    "# Open a connection to the SQLite database\n",
    "conn = sqlite3.connect('database.db')\n",
    "\n",
    "# Retrieve the image data from the database\n",
    "result = conn.execute(\"SELECT data FROM images WHERE name=?\", ('image',)).fetchone()\n",
    "\n",
    "# Convert the binary data to an image object\n",
    "image_data = io.BytesIO(result[0])\n",
    "image = Image.open(image_data)\n",
    "\n",
    "# Display the image\n",
    "image.show()\n",
    "\n",
    "# Close the connection\n",
    "conn.close()"
   ]
  },
  {
   "attachments": {},
   "cell_type": "markdown",
   "metadata": {},
   "source": [
    "The image data is then retrieved from the \"images\" table using a SELECT statement with a WHERE clause that correctly matches the image name. The binary image data is then converted to an image object using the PIL library and displayed on the screen."
   ]
  },
  {
   "attachments": {},
   "cell_type": "markdown",
   "metadata": {},
   "source": [
    "# HACKS (Due Sunday 11:59 PM)\n",
    "\n",
    "Make sure to fill in all blank notes and popcorn hacks, and run each of the interactive coding exercises. (0.45)\n",
    "- Extra Credit: Winning team for Popcorn Hacks (+0.05)\n",
    "\n",
    "\n",
    "\n",
    "\n",
    "Create your own SQL database and create an algorithm that can insert, update, and delete data related to your topic of choice. Functionality for adding image data MUST be included. Points will be awarded based on effort and success. (0.45)\n",
    "- Extra Credit: Connect your backend database to a visible frontend! Screenshots of displayed data is fine. (+0.05)"
   ]
  },
  {
   "cell_type": "code",
   "execution_count": 12,
   "metadata": {},
   "outputs": [],
   "source": [
    "from flask import Flask\n",
    "import sqlite3\n",
    "\n",
    "# Create a Flask application\n",
    "app = Flask(__name__)\n",
    "   \n",
    "# Connect to the SQLite database using SQLite3\n",
    "conn = sqlite3.connect('database.db')\n",
    "\n",
    "# Create a cursor object to execute SQL commands\n",
    "cursor = conn.cursor()\n",
    "\n",
    "# Create a table in the database using SQL commands\n",
    "cursor.execute('''CREATE TABLE water\n",
    "                 (_brand TEXT PRIMARY KEY, _water TEXT, _taste TEXT)''')\n",
    "\n",
    "# Commit the changes to the database\n",
    "conn.commit()\n",
    "\n",
    "# Close the connection\n",
    "conn.close()"
   ]
  },
  {
   "cell_type": "code",
   "execution_count": 13,
   "metadata": {},
   "outputs": [
    {
     "name": "stdout",
     "output_type": "stream",
     "text": [
      "New water with Lays is added.\n"
     ]
    }
   ],
   "source": [
    "def create():\n",
    "   \n",
    "   database = 'database.db'\n",
    "   brand = input(\"What brand is your food\")\n",
    "   water = input(\"Is it food or water?\")\n",
    "   taste = input(\"What is the flavor\")\n",
    "\n",
    "   # Connecting to the database, create cursor to execute the SQL command\n",
    "   connection = sqlite3.connect(database)\n",
    "   cursor = connection.cursor()\n",
    "\n",
    "   try:\n",
    "       # Execute SQL to insert record in to db\n",
    "       cursor.execute(\"INSERT INTO water (_brand, _water, _taste) VALUES (?, ?, ?)\", (brand, water, taste))\n",
    "       # Commit the changes\n",
    "       connection.commit()\n",
    "       print(f\"New water with {brand} is added.\")\n",
    "              \n",
    "   except sqlite3.Error as error:\n",
    "       print(\"Error while inserting record\", error)\n",
    "\n",
    "   # Closing cursor and connection\n",
    "   cursor.close()\n",
    "   connection.close()\n",
    "  \n",
    "create()"
   ]
  },
  {
   "cell_type": "code",
   "execution_count": 14,
   "metadata": {},
   "outputs": [
    {
     "name": "stdout",
     "output_type": "stream",
     "text": [
      "('Lays', 'Food', 'Great')\n"
     ]
    }
   ],
   "source": [
    "def read():\n",
    "\n",
    "   database = 'database.db'\n",
    "   # Connecting to the database, create cursor to execute the SQL command\n",
    "   connection = sqlite3.connect(database)\n",
    "   cursor = connection.cursor()\n",
    "  \n",
    "   # Fetch all the records from water table\n",
    "   results = cursor.execute('SELECT * FROM water').fetchall()\n",
    "\n",
    "   if len(results) != 0:\n",
    "       for row in results:\n",
    "           print(row)\n",
    "   else:\n",
    "       print(\"No water found.\")\n",
    "\n",
    "   # Closing cursor and connection\n",
    "   cursor.close()\n",
    "   connection.close()\n",
    "\n",
    "read()\n"
   ]
  },
  {
   "cell_type": "code",
   "execution_count": 15,
   "metadata": {},
   "outputs": [
    {
     "name": "stdout",
     "output_type": "stream",
     "text": [
      "Review for the water is updated to Ok\n"
     ]
    }
   ],
   "source": [
    "import sqlite3\n",
    "\n",
    "def update(): \n",
    "  \n",
    "   database = 'database.db'\n",
    "   brand = input(\"Enter a water player to update the taste for:\")\n",
    "   taste = input(\"Enter new taste:\")\n",
    "\n",
    "  # Connecting to the database, create cursor to execute the SQL command\n",
    "   connection = sqlite3.connect(database)\n",
    "   cursor = connection.cursor()\n",
    "\n",
    "   try:\n",
    "       # Updating review for the water\n",
    "       cursor.execute(\"UPDATE water SET _taste = ? WHERE _brand = ?\", (taste, brand))\n",
    "       if cursor.rowcount != 0:\n",
    "           print(f\"Review for the water is updated to {taste}\")\n",
    "           connection.commit()\n",
    "       else:\n",
    "           print(f\"Water not found.\")\n",
    "   except sqlite3.Error as error:\n",
    "       print(\"Error occurred\", error)\n",
    "      \n",
    "   # Closing cursor and connection\n",
    "   cursor.close()\n",
    "   connection.close()\n",
    "\n",
    "update()"
   ]
  },
  {
   "cell_type": "code",
   "execution_count": 16,
   "metadata": {},
   "outputs": [
    {
     "name": "stdout",
     "output_type": "stream",
     "text": [
      "Successfully deleted water Lays\n"
     ]
    }
   ],
   "source": [
    "import sqlite3\n",
    "\n",
    "def delete():\n",
    "  \n",
    "   database = 'database.db'\n",
    "   brand = input(\"Enter water to delete\")\n",
    "\n",
    "   # Connecting to the database, create cursor to execute the SQL command\n",
    "   connection = sqlite3.connect(database)\n",
    "   cursor = connection.cursor()\n",
    "  \n",
    "   try:\n",
    "       cursor.execute(\"DELETE FROM water WHERE _brand = ?\", (brand,))\n",
    "       if cursor.rowcount == 0:\n",
    "           print(f\"{brand} does not exist\")\n",
    "       else:\n",
    "           print(f\"Successfully deleted water {brand}\")\n",
    "       connection.commit()\n",
    "   except sqlite3.Error as error:\n",
    "       print(\"Error occurred: \", error)\n",
    "      \n",
    "   # Closing cursor and connection\n",
    "   cursor.close()\n",
    "   connection.close()\n",
    "\n",
    "delete()"
   ]
  },
  {
   "cell_type": "code",
   "execution_count": 19,
   "metadata": {},
   "outputs": [
    {
     "name": "stdout",
     "output_type": "stream",
     "text": [
      "New water with Lays is added.\n"
     ]
    }
   ],
   "source": [
    "def menu():\n",
    "    operation = input(\"Enter: (C)reate (R)ead (U)pdate or (D)elete\")\n",
    "    if operation.lower() == 'c':\n",
    "        create()\n",
    "    elif operation.lower() == 'r':\n",
    "        read()\n",
    "    elif operation.lower() == 'u':\n",
    "        update()\n",
    "    elif operation.lower() == 'd':\n",
    "        delete()\n",
    "    elif len(operation)==0: # Escape Key\n",
    "        return\n",
    "    else:\n",
    "        print(\"Please enter c, r, u, or d\")\n",
    "    menu() # recursion, repeat menu\n",
    "try:\n",
    "    menu() # start menu\n",
    "except:\n",
    "    print(\"Perform Jupyter 'Run All' prior to starting menu\")"
   ]
  },
  {
   "attachments": {},
   "cell_type": "markdown",
   "metadata": {},
   "source": [
    "![Q16](../images/Lays.JPeg)"
   ]
  }
 ],
 "metadata": {
  "kernelspec": {
   "display_name": "base",
   "language": "python",
   "name": "python3"
  },
  "language_info": {
   "codemirror_mode": {
    "name": "ipython",
    "version": 3
   },
   "file_extension": ".py",
   "mimetype": "text/x-python",
   "name": "python",
   "nbconvert_exporter": "python",
   "pygments_lexer": "ipython3",
   "version": "3.9.12"
  },
  "orig_nbformat": 4,
  "vscode": {
   "interpreter": {
    "hash": "40d3a090f54c6569ab1632332b64b2c03c39dcf918b08424e98f38b5ae0af88f"
   }
  }
 },
 "nbformat": 4,
 "nbformat_minor": 2
}
