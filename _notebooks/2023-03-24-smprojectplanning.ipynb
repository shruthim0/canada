{
 "cells": [
  {
   "attachments": {},
   "cell_type": "markdown",
   "metadata": {},
   "source": [
    "# Planning our Project "
   ]
  },
  {
   "attachments": {},
   "cell_type": "markdown",
   "metadata": {},
   "source": [
    "### Plans for Project\n",
    "![Plans](images/CanadaPlans.png)\n",
    "\n",
    "- These are the main things we need to keep in mind and follow as a group to meet the expectations for the project and be successful.\n",
    "\n",
    "### Roles for Project\n",
    "![Roles](images/CPTroles.png)"
   ]
  },
  {
   "attachments": {},
   "cell_type": "markdown",
   "metadata": {},
   "source": [
    "## What are simulations by College Board definition?\n",
    "\n",
    "- Simulations are abstractions that mimic more complex objects or phenomena from the real world\n",
    "    - Purposes include drawing inferences without the contraints of the real world\n",
    "- Simulations use varying sets of values to reflect the changing state of a real phenomenon\n",
    "- Often, when developing a simulation, it is necessary to remove specific details or simplify aspects\n",
    "    - Simulations can often contain bias based on which details or real-world elements were included/excluded\n",
    "- Simulations allow the formulation of hypotheses under consideration\n",
    "- Variability and randomness of the world is considered using random number generators\n",
    "- Examples: rolling dice, spinners, molecular models, analyze chemicals/reactions..."
   ]
  },
  {
   "attachments": {},
   "cell_type": "markdown",
   "metadata": {},
   "source": [
    "## Functions that are often needed"
   ]
  },
  {
   "cell_type": "code",
   "execution_count": null,
   "metadata": {},
   "outputs": [],
   "source": [
    "import random # a module that defines a series of functions for generating or manipulating random integers\n",
    "random.choice() #returns a randomly selected element from the specified sequence\n",
    "random.choice(mylist) # returns random value from list\n",
    "random.randint(0,10) #randomly selects an integer from given range; range in this case is from 0 to 10\n",
    "random.random() #will generate a random float between 0.0 to 1."
   ]
  },
  {
   "attachments": {},
   "cell_type": "markdown",
   "metadata": {},
   "source": [
    "## Examples of College Board MC Simulation Questions"
   ]
  },
  {
   "attachments": {},
   "cell_type": "markdown",
   "metadata": {},
   "source": [
    "Question: The following code simulates the feeding of 4 fish in an aquarium while the owner is on a 5-day trip:\n",
    "\n",
    "numFish ← 4\n",
    "\n",
    "foodPerDay ← 20\n",
    "\n",
    "foodLeft ← 160\n",
    "\n",
    "daysStarving ← 0\n",
    "\n",
    "    REPEAT 5 TIMES {\n",
    "\n",
    "    foodConsumed ← numFish * foodPerDay\n",
    "\n",
    "    foodLeft ← foodLeft - foodConsumed\n",
    "\n",
    "    IF (foodLeft < 0) {\n",
    "\n",
    "    daysStarving ← daysStarving + 1\n",
    "\n",
    "    }\n",
    "}\n",
    "\n",
    "- This simulation simplifies a real-world scenario into something that can be modeled in code and executed on a computer."
   ]
  },
  {
   "attachments": {},
   "cell_type": "markdown",
   "metadata": {},
   "source": [
    "# Simulation Code Starters"
   ]
  },
  {
   "attachments": {},
   "cell_type": "markdown",
   "metadata": {},
   "source": [
    "## Pull random card from a deck\n",
    "- Additions we would make to this include:\n",
    "    - Visual of the card chosen\n",
    "    - User can choose how many cards should be chosen"
   ]
  },
  {
   "cell_type": "code",
   "execution_count": 2,
   "metadata": {},
   "outputs": [
    {
     "name": "stdout",
     "output_type": "stream",
     "text": [
      "2 of Clubs\n"
     ]
    }
   ],
   "source": [
    "import random\n",
    "\n",
    "cards = [\"Ace\", \"2\", \"3\", \"4\", \"5\", \"6\", \"7\", \"8\", \"9\", \"10\", \"Jack\", \"Queen\", \"King\"] \n",
    "suits = [\"Diamonds\", \"Hearts\", \"Spades\", \"Clubs\"]\n",
    "\n",
    "print(random.choice(cards) + \" of \" + random.choice(suits))"
   ]
  },
  {
   "attachments": {},
   "cell_type": "markdown",
   "metadata": {},
   "source": [
    "## Frog jumping \n",
    "- Additions\n",
    "    - Again, add visuals of the frog\n",
    "    - Add more variables to make this more realistic\n",
    "        - Weather: If the weather is worse---> frog should jump less\n",
    "        - Time: If it is day time ---> frog should jump less\n",
    "        - ^ These could be user inputs"
   ]
  },
  {
   "cell_type": "code",
   "execution_count": 6,
   "metadata": {},
   "outputs": [
    {
     "name": "stdout",
     "output_type": "stream",
     "text": [
      "The frog jumped 5 hops to the left\n"
     ]
    }
   ],
   "source": [
    "import random\n",
    "length = [0, 1, 2, 3, 4, 5]\n",
    "direction = [\"left\", \"right\"]\n",
    "\n",
    "print(\"The frog jumped\" , random.choice(length) , \"hops to the\" , random.choice(direction))"
   ]
  }
 ],
 "metadata": {
  "kernelspec": {
   "display_name": "base",
   "language": "python",
   "name": "python3"
  },
  "language_info": {
   "codemirror_mode": {
    "name": "ipython",
    "version": 3
   },
   "file_extension": ".py",
   "mimetype": "text/x-python",
   "name": "python",
   "nbconvert_exporter": "python",
   "pygments_lexer": "ipython3",
   "version": "3.9.12"
  },
  "orig_nbformat": 4
 },
 "nbformat": 4,
 "nbformat_minor": 2
}
