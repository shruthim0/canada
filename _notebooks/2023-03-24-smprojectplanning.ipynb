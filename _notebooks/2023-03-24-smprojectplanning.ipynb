{
 "cells": [
  {
   "attachments": {},
   "cell_type": "markdown",
   "metadata": {},
   "source": [
    "# Planning our Project \n",
    "Shruthi: Technical Lead/Devops"
   ]
  },
  {
   "attachments": {},
   "cell_type": "markdown",
   "metadata": {},
   "source": [
    "## What are simulations by College Board definition?\n",
    "\n",
    "- Simulations are abstractions that mimic more complex objects or phenomena from the real world\n",
    "    - Purposes include drawing inferences without the contraints of the real world\n",
    "- Simulations use varying sets of values to reflect the changing state of a real phenomenon\n",
    "- Often, when developing a simulation, it is necessary to remove specific details or simplify aspects\n",
    "    - Simulations can often contain bias based on which details or real-world elements were included/excluded\n",
    "- Simulations allow the formulation of hypotheses under consideration\n",
    "- Variability and randomness of the world is considered using random number generators\n",
    "- Examples: rolling dice, spinners, molecular models, analyze chemicals/reactions..."
   ]
  },
  {
   "attachments": {},
   "cell_type": "markdown",
   "metadata": {},
   "source": [
    "## Functions that are often needed"
   ]
  },
  {
   "cell_type": "code",
   "execution_count": null,
   "metadata": {},
   "outputs": [],
   "source": [
    "import random # a module that defines a series of functions for generating or manipulating random integers\n",
    "random.choice() #returns a randomly selected element from the specified sequence\n",
    "random.choice(mylist) # returns random value from list\n",
    "random.randint(0,10) #randomly selects an integer from given range; range in this case is from 0 to 10\n",
    "random.random() #will generate a random float between 0.0 to 1."
   ]
  },
  {
   "attachments": {},
   "cell_type": "markdown",
   "metadata": {},
   "source": [
    "## Examples of College Board MC Simulation Questions"
   ]
  },
  {
   "attachments": {},
   "cell_type": "markdown",
   "metadata": {},
   "source": [
    "Question: The following code simulates the feeding of 4 fish in an aquarium while the owner is on a 5-day trip:\n",
    "\n",
    "numFish ← 4\n",
    "\n",
    "foodPerDay ← 20\n",
    "\n",
    "foodLeft ← 160\n",
    "\n",
    "daysStarving ← 0\n",
    "\n",
    "    REPEAT 5 TIMES {\n",
    "\n",
    "    foodConsumed ← numFish * foodPerDay\n",
    "\n",
    "    foodLeft ← foodLeft - foodConsumed\n",
    "\n",
    "    IF (foodLeft < 0) {\n",
    "\n",
    "    daysStarving ← daysStarving + 1\n",
    "\n",
    "    }\n",
    "}\n",
    "\n",
    "- This simulation simplifies a real-world scenario into something that can be modeled in code and executed on a computer."
   ]
  },
  {
   "attachments": {},
   "cell_type": "markdown",
   "metadata": {},
   "source": [
    "# Simulation Code Starters"
   ]
  },
  {
   "attachments": {},
   "cell_type": "markdown",
   "metadata": {},
   "source": [
    "## Simple coin flip\n",
    "- Additions we would make to this include:\n",
    "    - Instead of outputs being \"heads/tails\" program would output 5 pictures showing the coin orientation\n",
    "    - User can choose how many coins they want to flip"
   ]
  },
  {
   "cell_type": "code",
   "execution_count": 1,
   "metadata": {},
   "outputs": [
    {
     "name": "stdout",
     "output_type": "stream",
     "text": [
      "Heads\n",
      "Heads\n",
      "Tails\n",
      "Tails\n",
      "Heads\n"
     ]
    }
   ],
   "source": [
    "import random\n",
    "\n",
    "def coinflip():         #def function \n",
    "    randomflip = random.randint(0, 1) #picks either 0 or 1 randomly (50/50 chance of either) \n",
    "    if randomflip == 0: #assigning 0 to be heads--> if 0 is chosen then it will print, \"Heads\"\n",
    "        print(\"Heads\")\n",
    "    else:\n",
    "        if randomflip == 1: #assigning 1 to be tails--> if 1 is chosen then it will print, \"Tails\"\n",
    "            print(\"Tails\")\n",
    "\n",
    "#Tossing the coin 5 times:\n",
    "t1 = coinflip()\n",
    "t2 = coinflip()\n",
    "t3 = coinflip()\n",
    "t4 = coinflip()\n",
    "t5 = coinflip()"
   ]
  },
  {
   "attachments": {},
   "cell_type": "markdown",
   "metadata": {},
   "source": [
    "## Pull random card from a deck\n",
    "- Additions we would make to this include:\n",
    "    - Visual of the card chosen\n",
    "    - User can choose how many cards should be chosen"
   ]
  },
  {
   "cell_type": "code",
   "execution_count": 2,
   "metadata": {},
   "outputs": [
    {
     "name": "stdout",
     "output_type": "stream",
     "text": [
      "2 of Clubs\n"
     ]
    }
   ],
   "source": [
    "import random\n",
    "\n",
    "cards = [\"Ace\", \"2\", \"3\", \"4\", \"5\", \"6\", \"7\", \"8\", \"9\", \"10\", \"Jack\", \"Queen\", \"King\"] \n",
    "suits = [\"Diamonds\", \"Hearts\", \"Spades\", \"Clubs\"]\n",
    "\n",
    "print(random.choice(cards) + \" of \" + random.choice(suits))"
   ]
  },
  {
   "attachments": {},
   "cell_type": "markdown",
   "metadata": {},
   "source": [
    "## Frog jumping \n",
    "- Additions\n",
    "    - Again, add visuals of the frog\n",
    "    - Add more variables to make this more realistic\n",
    "        - Weather: If the weather is worse---> frog should jump less\n",
    "        - Time: If it is day time ---> frog should jump less\n",
    "        - ^ These could be user inputs"
   ]
  },
  {
   "cell_type": "code",
   "execution_count": 6,
   "metadata": {},
   "outputs": [
    {
     "name": "stdout",
     "output_type": "stream",
     "text": [
      "The frog jumped 5 hops to the left\n"
     ]
    }
   ],
   "source": [
    "import random\n",
    "length = [0, 1, 2, 3, 4, 5]\n",
    "direction = [\"left\", \"right\"]\n",
    "\n",
    "print(\"The frog jumped\" , random.choice(length) , \"hops to the\" , random.choice(direction))"
   ]
  },
  {
   "attachments": {},
   "cell_type": "markdown",
   "metadata": {},
   "source": [
    "## Population after natural disaster\n",
    "- When natural disasters occur, certain times random traits are wiped from a population\n",
    "    - Take for example the Galapagos finches\n",
    "        - When a drought hit, smaller seeds became more rare so finches with larger beaks had greater chance of survival\n",
    "        - this can be modeled (with lots of simplification)"
   ]
  },
  {
   "cell_type": "code",
   "execution_count": 5,
   "metadata": {},
   "outputs": [
    {
     "ename": "ValueError",
     "evalue": "dictionary update sequence element #0 has length 3; 2 is required",
     "output_type": "error",
     "traceback": [
      "\u001b[0;31m---------------------------------------------------------------------------\u001b[0m",
      "\u001b[0;31mValueError\u001b[0m                                Traceback (most recent call last)",
      "\u001b[1;32m/home/shruthim/vscode/canada/_notebooks/2023-03-24-smprojectplanning.ipynb Cell 15\u001b[0m in \u001b[0;36m<cell line: 11>\u001b[0;34m()\u001b[0m\n\u001b[1;32m      <a href='vscode-notebook-cell://wsl%2Bubuntu/home/shruthim/vscode/canada/_notebooks/2023-03-24-smprojectplanning.ipynb#X16sdnNjb2RlLXJlbW90ZQ%3D%3D?line=2'>3</a>\u001b[0m phenotypes \u001b[39m=\u001b[39m {\n\u001b[1;32m      <a href='vscode-notebook-cell://wsl%2Bubuntu/home/shruthim/vscode/canada/_notebooks/2023-03-24-smprojectplanning.ipynb#X16sdnNjb2RlLXJlbW90ZQ%3D%3D?line=3'>4</a>\u001b[0m   \u001b[39m\"\u001b[39m\u001b[39mbeak\u001b[39m\u001b[39m\"\u001b[39m: [\u001b[39m\"\u001b[39m\u001b[39msmall beak\u001b[39m\u001b[39m\"\u001b[39m,\u001b[39m\"\u001b[39m\u001b[39mlong beak\u001b[39m\u001b[39m\"\u001b[39m, \u001b[39m\"\u001b[39m\u001b[39mmedium beak\u001b[39m\u001b[39m\"\u001b[39m],\n\u001b[1;32m      <a href='vscode-notebook-cell://wsl%2Bubuntu/home/shruthim/vscode/canada/_notebooks/2023-03-24-smprojectplanning.ipynb#X16sdnNjb2RlLXJlbW90ZQ%3D%3D?line=4'>5</a>\u001b[0m   \u001b[39m\"\u001b[39m\u001b[39mwing\u001b[39m\u001b[39m\"\u001b[39m: [\u001b[39m\"\u001b[39m\u001b[39msmall wings\u001b[39m\u001b[39m\"\u001b[39m, \u001b[39m\"\u001b[39m\u001b[39mlarge wings\u001b[39m\u001b[39m\"\u001b[39m, \u001b[39m\"\u001b[39m\u001b[39mmedium wings\u001b[39m\u001b[39m\"\u001b[39m],\n\u001b[1;32m      <a href='vscode-notebook-cell://wsl%2Bubuntu/home/shruthim/vscode/canada/_notebooks/2023-03-24-smprojectplanning.ipynb#X16sdnNjb2RlLXJlbW90ZQ%3D%3D?line=5'>6</a>\u001b[0m   \u001b[39m\"\u001b[39m\u001b[39mheight\u001b[39m\u001b[39m\"\u001b[39m: [\u001b[39m\"\u001b[39m\u001b[39mshort\u001b[39m\u001b[39m\"\u001b[39m, \u001b[39m\"\u001b[39m\u001b[39mtall\u001b[39m\u001b[39m\"\u001b[39m, \u001b[39m\"\u001b[39m\u001b[39mmedium\u001b[39m\u001b[39m\"\u001b[39m]\n\u001b[1;32m      <a href='vscode-notebook-cell://wsl%2Bubuntu/home/shruthim/vscode/canada/_notebooks/2023-03-24-smprojectplanning.ipynb#X16sdnNjb2RlLXJlbW90ZQ%3D%3D?line=6'>7</a>\u001b[0m }\n\u001b[1;32m      <a href='vscode-notebook-cell://wsl%2Bubuntu/home/shruthim/vscode/canada/_notebooks/2023-03-24-smprojectplanning.ipynb#X16sdnNjb2RlLXJlbW90ZQ%3D%3D?line=8'>9</a>\u001b[0m naturaldisaster \u001b[39m=\u001b[39m [\u001b[39m\"\u001b[39m\u001b[39mflood\u001b[39m\u001b[39m\"\u001b[39m, \u001b[39m\"\u001b[39m\u001b[39mdrought\u001b[39m\u001b[39m\"\u001b[39m, \u001b[39m\"\u001b[39m\u001b[39mfire\u001b[39m\u001b[39m\"\u001b[39m, \u001b[39m\"\u001b[39m\u001b[39mhurricane\u001b[39m\u001b[39m\"\u001b[39m, \u001b[39m\"\u001b[39m\u001b[39mdustbowl\u001b[39m\u001b[39m\"\u001b[39m]\n\u001b[0;32m---> <a href='vscode-notebook-cell://wsl%2Bubuntu/home/shruthim/vscode/canada/_notebooks/2023-03-24-smprojectplanning.ipynb#X16sdnNjb2RlLXJlbW90ZQ%3D%3D?line=10'>11</a>\u001b[0m \u001b[39mprint\u001b[39m(\u001b[39m\"\u001b[39m\u001b[39mWhen\u001b[39m\u001b[39m\"\u001b[39m , random\u001b[39m.\u001b[39mchoice(naturaldisaster) , \u001b[39m\"\u001b[39m\u001b[39mhit, all birds with\u001b[39m\u001b[39m\"\u001b[39m , random\u001b[39m.\u001b[39mchoice(\u001b[39mdict\u001b[39;49m(phenotypes\u001b[39m.\u001b[39;49mvalues())), \u001b[39m\"\u001b[39m\u001b[39mdied\u001b[39m\u001b[39m\"\u001b[39m)\n",
      "\u001b[0;31mValueError\u001b[0m: dictionary update sequence element #0 has length 3; 2 is required"
     ]
    }
   ],
   "source": [
    "import random\n",
    "\n",
    "phenotypes = {\n",
    "  \"beak\": [\"small beak\",\"long beak\", \"medium beak\"],\n",
    "  \"wing\": [\"small wings\", \"large wings\", \"medium wings\"],\n",
    "  \"height\": [\"short\", \"tall\", \"medium\"]\n",
    "}\n",
    "\n",
    "naturaldisaster = [\"flood\", \"drought\", \"fire\", \"hurricane\", \"dustbowl\"]\n",
    "\n",
    "print(\"When\" , random.choice(naturaldisaster) , \"hit, all birds with\" , random.choice(dict(phenotypes.values())), \"died\") "
   ]
  }
 ],
 "metadata": {
  "kernelspec": {
   "display_name": "base",
   "language": "python",
   "name": "python3"
  },
  "language_info": {
   "codemirror_mode": {
    "name": "ipython",
    "version": 3
   },
   "file_extension": ".py",
   "mimetype": "text/x-python",
   "name": "python",
   "nbconvert_exporter": "python",
   "pygments_lexer": "ipython3",
   "version": "3.9.12"
  },
  "orig_nbformat": 4
 },
 "nbformat": 4,
 "nbformat_minor": 2
}
