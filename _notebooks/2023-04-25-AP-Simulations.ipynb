{
 "cells": [
  {
   "attachments": {},
   "cell_type": "markdown",
   "metadata": {},
   "source": [
    "# Simulations\n",
    "- toc: true\n"
   ]
  },
  {
   "attachments": {},
   "cell_type": "markdown",
   "metadata": {},
   "source": [
    "## Objectives\n",
    "1. Understand how computers can be used to represent real-world phenomena or outcomes\n",
    "2. Compare simulations with real-world contexts.\n",
    "3. Implement code to mimic real world situations, problems, or phenomena."
   ]
  },
  {
   "attachments": {},
   "cell_type": "markdown",
   "metadata": {},
   "source": [
    "## What are simulations by College Board definition?\n",
    "\n",
    "- Simulations are abstractions that mimic more complex objects or phenomena from the real world\n",
    "    - Purposes include drawing inferences without the contraints of the real world\n",
    "- Simulations use varying sets of values to reflect the changing state of a real phenomenon\n",
    "- Often, when developing a simulation, it is necessary to remove specific details or simplify aspects\n",
    "    - Simulations can often contain bias based on which details or real-world elements were included/excluded\n",
    "- Simulations allow the formulation of hypotheses under consideration\n",
    "- Variability and randomness of the world is considered using random number generators\n",
    "- Examples: rolling dice, spinners, molecular models, analyze chemicals/reactions..."
   ]
  },
  {
   "attachments": {},
   "cell_type": "markdown",
   "metadata": {},
   "source": [
    "## Analyzing an Example: Air-Traffic Simulator\n",
    "- Say we want to find out what the optimal number of aircrafts that can be in the air in one area is.\n",
    "\n",
    "- A simulation allows us to explore this question without real world contraints of money, time, safety\n",
    "- Unfortunately we can't just fly 67 planes all at once and see what happens\n",
    "- Since the simulation won't be able to take all variables into control, it may have a bias towards one answer\n",
    "- Will not always have the same result"
   ]
  },
  {
   "attachments": {},
   "cell_type": "markdown",
   "metadata": {},
   "source": [
    "## Functions we often need"
   ]
  },
  {
   "cell_type": "code",
   "execution_count": null,
   "metadata": {},
   "outputs": [],
   "source": [
    "import random # a module that defines a series of functions for generating or manipulating random integers\n",
    "random.choice() #returns a randomly selected element from the specified sequence\n",
    "random.choice(mylist) # returns random value from list\n",
    "random.randint(0,10) #randomly selects an integer from given range; range in this case is from 0 to 10\n",
    "random.random() #will generate a random float between 0.0 to 1."
   ]
  },
  {
   "attachments": {},
   "cell_type": "markdown",
   "metadata": {},
   "source": [
    "## College Board Question 1"
   ]
  },
  {
   "attachments": {},
   "cell_type": "markdown",
   "metadata": {},
   "source": [
    "Question: The following code simulates the feeding of 4 fish in an aquarium while the owner is on a 5-day trip:\n",
    "\n",
    "    numFish ← 4\n",
    "\n",
    "    foodPerDay ← 20\n",
    "\n",
    "    foodLeft ← 160\n",
    "\n",
    "    daysStarving ← 0\n",
    "\n",
    "        REPEAT 5 TIMES {\n",
    "\n",
    "        foodConsumed ← numFish * foodPerDay\n",
    "\n",
    "        foodLeft ← foodLeft - foodConsumed\n",
    "\n",
    "        IF (foodLeft < 0) {\n",
    "\n",
    "        daysStarving ← daysStarving + 1\n",
    "\n",
    "        }\n",
    "}\n",
    "\n",
    "- This simulation simplifies a real-world scenario into something that can be modeled in code and executed on a computer.\n",
    "- Explain what each part of the code does"
   ]
  },
  {
   "attachments": {},
   "cell_type": "markdown",
   "metadata": {},
   "source": [
    "## Card Flip"
   ]
  },
  {
   "cell_type": "code",
   "execution_count": null,
   "metadata": {},
   "outputs": [],
   "source": [
    "import random\n",
    "\n",
    "cards = [\"Ace\", \"2\", \"3\", \"4\", \"5\", \"6\", \"7\", \"8\", \"9\", \"10\", \"Jack\", \"Queen\", \"King\"] \n",
    "suits = [\"Diamonds\", \"Hearts\", \"Spades\", \"Clubs\"]\n",
    "\n",
    "print(random.choice(cards) + \" of \" + random.choice(suits))"
   ]
  },
  {
   "attachments": {},
   "cell_type": "markdown",
   "metadata": {},
   "source": [
    "## Coin Flip"
   ]
  },
  {
   "cell_type": "code",
   "execution_count": null,
   "metadata": {},
   "outputs": [],
   "source": [
    "import random\n",
    "\n",
    "def coinflip():         #def function \n",
    "    randomflip = random.randint(0, 1) #picks either 0 or 1 randomly \n",
    "    if randomflip == 0: #assigning 0 to be heads--> if 0 is chosen then it will print, \"Heads\"\n",
    "        print(\"Heads\")\n",
    "    else:\n",
    "        if randomflip == 1: #assigning 1 to be tails--> if 1 is chosen then it will print, \"Tails\"\n",
    "            print(\"Tails\")\n",
    "\n",
    "#Tossing the coin 5 times:\n",
    "t1 = coinflip()\n",
    "t2 = coinflip()\n",
    "t3 = coinflip()\n",
    "t4 = coinflip()\n",
    "t5 = coinflip()"
   ]
  },
  {
   "attachments": {},
   "cell_type": "markdown",
   "metadata": {},
   "source": [
    "Your turn: Change the code to make it simulate the flipping of a weighted coin."
   ]
  },
  {
   "attachments": {},
   "cell_type": "markdown",
   "metadata": {},
   "source": [
    "# Adding images (in Python)"
   ]
  },
  {
   "attachments": {},
   "cell_type": "markdown",
   "metadata": {},
   "source": [
    "- Add a heads and tails images into your images directory with the correct names and run the code below"
   ]
  },
  {
   "cell_type": "code",
   "execution_count": null,
   "metadata": {},
   "outputs": [],
   "source": [
    "import random\n",
    "\n",
    "# importing Image class from PIL package\n",
    "from PIL import Image\n",
    " \n",
    "# creating a object\n",
    "im = Image.open(r\"images/HeadsOn.png\")\n",
    "image = Image.open(r\"images/TailsOn.png\")\n",
    "\n",
    "i=random.randint(0,1)\n",
    "\n",
    "if i == 1:\n",
    "    print(\"heads\")\n",
    "    display(im)\n",
    "\n",
    "else:\n",
    "    print(\"tails\")\n",
    "    display(image)"
   ]
  },
  {
   "attachments": {},
   "cell_type": "markdown",
   "metadata": {},
   "source": [
    "## Spin the Wheel"
   ]
  },
  {
   "cell_type": "code",
   "execution_count": null,
   "metadata": {},
   "outputs": [],
   "source": [
    "import random\n",
    "\n",
    "print(\"Spin the wheel!\")\n",
    "print(\"----------------------------------\")\n",
    "\n",
    "n = 300\n",
    "blue = 0\n",
    "red = 0\n",
    " \n",
    "for i in range(n):\n",
    "    spin = random.randint(1,2)\n",
    "    if spin == 1: # head\n",
    "        blue = blue + 1\n",
    "    else:         # tail\n",
    "        red = red + 1\n",
    " \n",
    "print('Number of blue:', blue)\n",
    "print('Number of red:', red)"
   ]
  },
  {
   "attachments": {},
   "cell_type": "markdown",
   "metadata": {},
   "source": [
    "## Population Growth"
   ]
  },
  {
   "cell_type": "code",
   "execution_count": null,
   "metadata": {},
   "outputs": [],
   "source": [
    "import random\n",
    "\n",
    "totalPopulation = 50 \n",
    "growthFactor = 1.00005\n",
    "dayCount = 0 #Every 2 months the population is reported\n",
    "while totalPopulation < 1000000:\n",
    "    totalPopulation *= growthFactor\n",
    "    #Every 56th day, population is reported\n",
    "    dayCount += 1\n",
    "    if dayCount == 56: \n",
    "        dayCount = 0\n",
    "        print(totalPopulation)"
   ]
  },
  {
   "attachments": {},
   "cell_type": "markdown",
   "metadata": {},
   "source": [
    "Your turn: Add a visual to the simulation"
   ]
  },
  {
   "attachments": {},
   "cell_type": "markdown",
   "metadata": {},
   "source": [
    "## Example on how simplification can cause bias"
   ]
  },
  {
   "cell_type": "code",
   "execution_count": null,
   "metadata": {},
   "outputs": [],
   "source": [
    "import random\n",
    "\n",
    "beak =  [\"small-beak\", \"long-beak\", \"medium-beak\"],\n",
    "wing = [\"small-wings\", \"large-wings\", \"medium-wings\"],\n",
    "height = [\"short\", \"tall\",\"medium\"]\n",
    "\n",
    "\n",
    "naturaldisaster = [\"flood\", \"drought\", \"fire\", \"hurricane\", \"dustbowl\"]\n",
    "\n",
    "\n",
    "print(\"When a\" , random.choice(naturaldisaster) , \"hit\",  random.choice(height), \"birds died\") "
   ]
  },
  {
   "attachments": {},
   "cell_type": "markdown",
   "metadata": {},
   "source": [
    "- How does this simulation have bias?\n",
    "-"
   ]
  },
  {
   "attachments": {},
   "cell_type": "markdown",
   "metadata": {},
   "source": [
    "# Full stack examples\n",
    "\n",
    "[Dice Roll](https://shruthim0.github.io/canada/diceroll/)\n",
    "[Binary Coin Flip](https://shruthim0.github.io/canada/2023/04/13/Coin-Flip.html)\n",
    "[Card Pull](https://shruthim0.github.io/canada/2023/04/16/Card-Pull.html)"
   ]
  },
  {
   "attachments": {},
   "cell_type": "markdown",
   "metadata": {},
   "source": [
    "## Hacks"
   ]
  },
  {
   "attachments": {},
   "cell_type": "markdown",
   "metadata": {},
   "source": [
    "- Answer all questions and prompts in the notes (0.1)\n",
    "- Make your own simulation using iteration and some form of data collection (list, dictionary...) (0.5)\n",
    "    - Comment and describe function of each parts\n",
    "    - How does your simulation help solve/mimic a real world problem?\n",
    "    - Is there any bias in your simulation? Meaning, are there any discrepancies between your program and the real event?\n",
    "- Answer these [simulation questions](https://shruthim0.github.io/canada/2023/04/03/simulationsplanning2.html) (0.3)\n",
    "- Take a real world event and make a pseudocode representation or pseudocode on a flowchart of how you would make a simulation for it (0.1)"
   ]
  }
 ],
 "metadata": {
  "kernelspec": {
   "display_name": "base",
   "language": "python",
   "name": "python3"
  },
  "language_info": {
   "name": "python",
   "version": "3.9.12"
  },
  "orig_nbformat": 4
 },
 "nbformat": 4,
 "nbformat_minor": 2
}
