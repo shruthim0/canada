{
 "cells": [
  {
   "attachments": {},
   "cell_type": "markdown",
   "metadata": {},
   "source": [
    "# Big Idea 3 Leader board Full Stack Hack"
   ]
  },
  {
   "attachments": {},
   "cell_type": "markdown",
   "metadata": {},
   "source": [
    "## POSTMAN\n",
    "\n",
    "![Postman Get](images/GetPostman.png)\n",
    "- Here is a screenshot of postman working with the backend api and database, fetching the data\n",
    "\n",
    "\n",
    "![Leaderboard postman](images/PostLeaderboard.png)\n",
    "- Here is a screenshot of posting data into our database using postman\n",
    "\n",
    "\n",
    "## Database on Local\n",
    "![Q17](images/LeaderboardDataLocal.png)\n",
    "- Here is a screenshot of the leaderboard database displayed on the flask website running locally\n",
    "\n",
    "### Code\n",
    "- [API Code](https://github.com/lydia-c2/canadaBE/blob/master/hacks/api/leaderboards.py)\n",
    "- [Database Code](https://github.com/lydia-c2/canadaBE/blob/master/hacks/model/leaderboard.py)"
   ]
  },
  {
   "attachments": {},
   "cell_type": "markdown",
   "metadata": {},
   "source": [
    "## Frontend\n",
    "![FE ss](images/LeaderboardFE.png)\n",
    "- Here is a screenshot of the leaderboard on the frontend website run locally. The data is not rendered on the page, however I had my code reviewed by one of your team members and we could not figure out why it wasn't working as all the code is correct in both frontend and backend\n",
    "\n",
    "- [FRONTEND CODE](https://github.com/lydia-c2/canadaFE/blob/gh-pages/leaderboard.html)"
   ]
  }
 ],
 "metadata": {
  "language_info": {
   "name": "python"
  },
  "orig_nbformat": 4
 },
 "nbformat": 4,
 "nbformat_minor": 2
}
