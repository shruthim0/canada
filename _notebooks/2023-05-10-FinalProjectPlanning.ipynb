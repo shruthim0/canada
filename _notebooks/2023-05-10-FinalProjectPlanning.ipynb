{
 "cells": [
  {
   "attachments": {},
   "cell_type": "markdown",
   "metadata": {},
   "source": [
    "# Ideas for final project\n",
    "- toc: true"
   ]
  },
  {
   "attachments": {},
   "cell_type": "markdown",
   "metadata": {},
   "source": [
    "## Travel\n",
    "- User would input the city they are visiting and program would output attractions in the city. We would develop this further by outputting a full itinerary that the user can download.\n",
    "- Uses the Travel Advisor Freemium API\n",
    "- input: city name\n",
    "- output: list of attractions"
   ]
  },
  {
   "cell_type": "code",
   "execution_count": null,
   "metadata": {},
   "outputs": [],
   "source": [
    "const apiKey = \"ec628c3848mshc2f96fd1e664c35p194b32jsna5ebcbef62b6\";\n",
    "const searchButton = document.getElementById(\"search-button\");\n",
    "const cityInput = document.getElementById(\"city-input\");\n",
    "const attractionsList = document.getElementById(\"attractions-list\");\n",
    "\n",
    "searchButton.addEventListener(\"click\", async () => {\n",
    "  const city = cityInput.value;\n",
    "  \n",
    "  // Make a request to the Travel Advisor API to get attractions for the specified city\n",
    "  const response = await fetch(`https://travel-advisor.p.rapidapi.com/attractions/list?location_id=${city}&lang=en_US`, {\n",
    "    headers: {\n",
    "      \"X-RapidAPI-Key\": apiKey\n",
    "    }\n",
    "  });\n",
    "  \n",
    "  const data = await response.json();\n",
    "  \n",
    "  // Clear previous results\n",
    "  attractionsList.innerHTML = \"\";\n",
    "  \n",
    "  if (data.data && data.data.length > 0) {\n",
    "    // Display the attractions in a list\n",
    "    data.data.forEach(attraction => {\n",
    "      const attractionItem = document.createElement(\"li\");\n",
    "      attractionItem.textContent = attraction.name;\n",
    "      attractionsList.appendChild(attractionItem);\n",
    "    });\n",
    "  } else {\n",
    "    // No attractions found for the specified city\n",
    "    const noResultsItem = document.createElement(\"li\");\n",
    "    noResultsItem.textContent = \"No attractions found for the specified city\";\n",
    "    attractionsList.appendChild(noResultsItem);\n",
    "  }\n",
    "});"
   ]
  },
  {
   "attachments": {},
   "cell_type": "markdown",
   "metadata": {},
   "source": [
    "### Air BnB recommender\n",
    "- Could add a feature where users input location and possible air bnb spots are found\n",
    "- uses Airbnb13 API api"
   ]
  },
  {
   "cell_type": "code",
   "execution_count": null,
   "metadata": {},
   "outputs": [],
   "source": [
    "const apiKey = \"ec628c3848mshc2f96fd1e664c35p194b32jsna5ebcbef62b6\";\n",
    "const searchButton = document.getElementById(\"search-button\");\n",
    "const locationInput = document.getElementById(\"location-input\");\n",
    "const recommendationsContainer = document.getElementById(\"recommendations-container\");\n",
    "\n",
    "searchButton.addEventListener(\"click\", async () => {\n",
    "  const location = locationInput.value;\n",
    "  \n",
    "  // Make a request to the Airbnb13 API to get recommendations for the specified location\n",
    "  const response = await fetch(`https://airbnb13.p.rapidapi.com/locations/${location}/recommendations`, {\n",
    "    headers: {\n",
    "      \"X-RapidAPI-Key\": apiKey\n",
    "    }\n",
    "  });\n",
    "  \n",
    "  const data = await response.json();\n",
    "  \n",
    "  // Clear previous results\n",
    "  recommendationsContainer.innerHTML = \"\";\n",
    "  \n",
    "  if (data.status === \"success\") {\n",
    "    // Display the recommendations\n",
    "    data.data.forEach(recommendation => {\n",
    "      const recommendationItem = document.createElement(\"div\");\n",
    "      recommendationItem.classList.add(\"recommendation-item\");\n",
    "      \n",
    "      const title = document.createElement(\"h3\");\n",
    "      title.textContent = recommendation.name;\n",
    "      \n",
    "      const description = document.createElement(\"p\");\n",
    "      description.textContent = recommendation.description;\n",
    "      \n",
    "      recommendationItem.appendChild(title);\n",
    "      recommendationItem.appendChild(description);\n",
    "      recommendationsContainer.appendChild(recommendationItem);\n",
    "    });\n",
    "  } else {\n",
    "    // No recommendations found for the specified location\n",
    "    const noResultsItem = document.createElement(\"div\");\n",
    "    noResultsItem.textContent = \"No recommendations found for the specified location\";\n",
    "    recommendationsContainer.appendChild(noResultsItem);\n",
    "  }\n",
    "});\n"
   ]
  },
  {
   "attachments": {},
   "cell_type": "markdown",
   "metadata": {},
   "source": [
    "## College Find\n",
    "- We would create a program that allows you to enter college/university name, and it would output location, offical university website, \n",
    "- Could also enter state/country and program would output universities with their official website\n",
    "- Would be useful for high schoolers applying to colleges\n",
    "- Alternatively, if we wanted to also have admission rates/GPA... data we could use https://nces.ed.gov/ipeds/use-the-data to create our own csv file"
   ]
  },
  {
   "attachments": {},
   "cell_type": "markdown",
   "metadata": {},
   "source": [
    "![](_notebooks/images/unicsvpic.png)"
   ]
  }
 ],
 "metadata": {
  "kernelspec": {
   "display_name": "JavaScript (Node.js)",
   "language": "javascript",
   "name": "javascript"
  },
  "language_info": {
   "codemirror_mode": {
    "name": "ipython",
    "version": 3
   },
   "file_extension": ".py",
   "mimetype": "text/x-python",
   "name": "javascript",
   "nbconvert_exporter": "python",
   "pygments_lexer": "ipython3",
   "version": "3.8.10"
  },
  "orig_nbformat": 4
 },
 "nbformat": 4,
 "nbformat_minor": 2
}
