{
 "cells": [
  {
   "attachments": {},
   "cell_type": "markdown",
   "metadata": {},
   "source": [
    "# Project Planning Part 2"
   ]
  },
  {
   "attachments": {},
   "cell_type": "markdown",
   "metadata": {},
   "source": [
    "## Simple coin flip\n",
    "- Additions we would make to this include:\n",
    "    - Instead of outputs being \"heads/tails\" program would output 5 pictures showing the coin orientation\n",
    "    - User can choose how many coins they want to flip"
   ]
  },
  {
   "cell_type": "code",
   "execution_count": 1,
   "metadata": {},
   "outputs": [
    {
     "name": "stdout",
     "output_type": "stream",
     "text": [
      "Tails\n",
      "Tails\n",
      "Tails\n",
      "Heads\n",
      "Heads\n"
     ]
    }
   ],
   "source": [
    "import random\n",
    "\n",
    "def coinflip():         #def function \n",
    "    randomflip = random.randint(0, 1) #picks either 0 or 1 randomly (50/50 chance of either) \n",
    "    if randomflip == 0: #assigning 0 to be heads--> if 0 is chosen then it will print, \"Heads\"\n",
    "        print(\"Heads\")\n",
    "    else:\n",
    "        if randomflip == 1: #assigning 1 to be tails--> if 1 is chosen then it will print, \"Tails\"\n",
    "            print(\"Tails\")\n",
    "\n",
    "#Tossing the coin 5 times:\n",
    "t1 = coinflip()\n",
    "t2 = coinflip()\n",
    "t3 = coinflip()\n",
    "t4 = coinflip()\n",
    "t5 = coinflip()"
   ]
  },
  {
   "attachments": {},
   "cell_type": "markdown",
   "metadata": {},
   "source": [
    "## Four Corners Game"
   ]
  },
  {
   "cell_type": "code",
   "execution_count": null,
   "metadata": {},
   "outputs": [],
   "source": [
    "import random\n",
    "\n",
    "status = \"in\"\n",
    "while status != \"out\":\n",
    "    chooseCorner = input(\"What corner do you choose?\")\n",
    "\n",
    "    corner = random.randint(1,4)\n",
    "\n",
    "    if int(chooseCorner) == corner:\n",
    "        status = \"out\"\n",
    "        print(\"You chose corner number \" + chooseCorner + \" and you're OUT\")\n",
    "    else:\n",
    "        print(\"You chose corner number \" + chooseCorner + \" and are still in!\")\n"
   ]
  },
  {
   "attachments": {},
   "cell_type": "markdown",
   "metadata": {},
   "source": [
    "## Rolling a Dice"
   ]
  },
  {
   "cell_type": "code",
   "execution_count": null,
   "metadata": {},
   "outputs": [],
   "source": [
    "\n",
    "def parse_input(input_string):\n",
    "    if input_string.strip() in {\"1\", \"2\", \"3\",\"4\", \"5\", \"6\"}:\n",
    "        return int(input_string)\n",
    "    else:\n",
    "        print(\"Please enter a number from 1 to 6.\")\n",
    "        raise SystemExit(1)\n",
    "\n",
    "import random\n",
    "\n",
    "def roll_dice(num_dice):\n",
    "    roll_results = []\n",
    "    for _ in range(num_dice):\n",
    "        roll = random.randint(1, 6)\n",
    "        roll_results.append(roll)\n",
    "    return roll_results\n",
    "\n",
    "\n",
    "num_dice_input = input(\"How many dice do you want to roll? [1-6] \")\n",
    "num_dice = parse_input(num_dice_input)\n",
    "roll_results = roll_dice(num_dice)\n",
    "\n",
    "print(\"you rolled:\", roll_results) \n"
   ]
  },
  {
   "attachments": {},
   "cell_type": "markdown",
   "metadata": {},
   "source": [
    "## Spinning the Wheel"
   ]
  },
  {
   "cell_type": "code",
   "execution_count": null,
   "metadata": {},
   "outputs": [],
   "source": [
    "import random\n",
    "\n",
    "print(\"Spin the wheel!\")\n",
    "print(\"----------------------------------\")\n",
    "\n",
    "n = 300\n",
    "blue = 0\n",
    "red = 0\n",
    " \n",
    "for i in range(n):\n",
    "    spin = random.randint(1,2)\n",
    "    if spin == 1: # head\n",
    "        blue = blue + 1\n",
    "    else:         # tail\n",
    "        red = red + 1\n",
    " \n",
    "print('Number of blue:', blue)\n",
    "print('Number of red:', red)"
   ]
  },
  {
   "attachments": {},
   "cell_type": "markdown",
   "metadata": {},
   "source": [
    "## Human Population Simulator"
   ]
  },
  {
   "cell_type": "code",
   "execution_count": null,
   "metadata": {},
   "outputs": [],
   "source": [
    "totalPopulation = 50 \n",
    "growthFactor = 1.00005\n",
    "dayCount = 0 #Every 2 months the population is reported\n",
    "while totalPopulation < 1000000:\n",
    "    totalPopulation *= growthFactor\n",
    "    #Every 56th day, population is reported\n",
    "    dayCount += 1\n",
    "    if dayCount == 56: \n",
    "        dayCount = 0\n",
    "        print(totalPopulation)"
   ]
  }
 ],
 "metadata": {
  "kernelspec": {
   "display_name": "base",
   "language": "python",
   "name": "python3"
  },
  "language_info": {
   "codemirror_mode": {
    "name": "ipython",
    "version": 3
   },
   "file_extension": ".py",
   "mimetype": "text/x-python",
   "name": "python",
   "nbconvert_exporter": "python",
   "pygments_lexer": "ipython3",
   "version": "3.9.12"
  },
  "orig_nbformat": 4
 },
 "nbformat": 4,
 "nbformat_minor": 2
}
