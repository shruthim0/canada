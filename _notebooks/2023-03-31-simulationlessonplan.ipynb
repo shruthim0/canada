{
 "cells": [
  {
   "attachments": {},
   "cell_type": "markdown",
   "metadata": {},
   "source": [
    "# Simulations\n",
    "- toc: true"
   ]
  },
  {
   "attachments": {},
   "cell_type": "markdown",
   "metadata": {},
   "source": [
    "## Objectives\n",
    "1. Understand how computers can be used to represent real-world phenomena or outcomes\n",
    "2. Compare simulations with real-world contexts.\n",
    "3. Implement code to mimic real world situations, problems, or phenomena."
   ]
  },
  {
   "attachments": {},
   "cell_type": "markdown",
   "metadata": {},
   "source": [
    "## What are simulations by College Board definition?\n",
    "\n",
    "- Simulations are abstractions that mimic more complex objects or phenomena from the real world\n",
    "    - Purposes include drawing inferences without the contraints of the real world\n",
    "- Simulations use varying sets of values to reflect the changing state of a real phenomenon\n",
    "- Often, when developing a simulation, it is necessary to remove specific details or simplify aspects\n",
    "    - Simulations can often contain bias based on which details or real-world elements were included/excluded\n",
    "- Simulations allow the formulation of hypotheses under consideration\n",
    "- Variability and randomness of the world is considered using random number generators\n",
    "- Examples: rolling dice, spinners, molecular models, analyze chemicals/reactions..."
   ]
  },
  {
   "attachments": {},
   "cell_type": "markdown",
   "metadata": {},
   "source": [
    "## Analyzing an Example: Air-Traffic Simulator\n",
    "- Say we want to find out what the optimal number of aircrafts that can be in the air in one area is.\n",
    "\n",
    "- A simulation allows us to explore this question without real world contraints of money, time, safety\n",
    "- Unfortunately we can't just fly 67 planes all at once and see what happens\n",
    "- Since the simulation won't be able to take all variables into control, it may have a bias towards one answer\n",
    "- Will not always have the same result"
   ]
  },
  {
   "attachments": {},
   "cell_type": "markdown",
   "metadata": {},
   "source": [
    "## Functions we often need"
   ]
  },
  {
   "cell_type": "code",
   "execution_count": null,
   "metadata": {},
   "outputs": [],
   "source": [
    "import random # a module that defines a series of functions for generating or manipulating random integers\n",
    "random.choice() #returns a randomly selected element from the specified sequence\n",
    "random.choice(mylist) # returns random value from list\n",
    "random.randint(0,10) #randomly selects an integer from given range; range in this case is from 0 to 10\n",
    "random.random() #will generate a random float between 0.0 to 1."
   ]
  },
  {
   "attachments": {},
   "cell_type": "markdown",
   "metadata": {},
   "source": [
    "## College Board Question 1"
   ]
  },
  {
   "attachments": {},
   "cell_type": "markdown",
   "metadata": {},
   "source": [
    "Question: The following code simulates the feeding of 4 fish in an aquarium while the owner is on a 5-day trip:\n",
    "\n",
    "    numFish ← 4\n",
    "\n",
    "    foodPerDay ← 20\n",
    "\n",
    "    foodLeft ← 160\n",
    "\n",
    "    daysStarving ← 0\n",
    "\n",
    "        REPEAT 5 TIMES {\n",
    "\n",
    "        foodConsumed ← numFish * foodPerDay\n",
    "\n",
    "        foodLeft ← foodLeft - foodConsumed\n",
    "\n",
    "        IF (foodLeft < 0) {\n",
    "\n",
    "        daysStarving ← daysStarving + 1\n",
    "\n",
    "        }\n",
    "}\n",
    "\n",
    "- This simulation simplifies a real-world scenario into something that can be modeled in code and executed on a computer.\n",
    "- Explain what each part of the code does"
   ]
  },
  {
   "attachments": {},
   "cell_type": "markdown",
   "metadata": {},
   "source": [
    "## College Board Question 2"
   ]
  },
  {
   "attachments": {},
   "cell_type": "markdown",
   "metadata": {},
   "source": [
    "**A theme park wants to create a simulation to determine how long it should expect the wait time at its most popular ride. Which of the following characteristics for the virtual patrons would be most useful? Select two answers**\n",
    "\n",
    "- A. Ride preference—denotes whether a patron prefers roller coasters, other thrill rides, gentle rides, or no rides.\n",
    "- B. Walking preference—denotes how far a patron is willing to walk in between rides.\n",
    "- C. Food preference—denotes the type of food that a patron prefers to eat (e.g., chicken, burgers, salads).\n",
    "- D. Ticket type—denotes whether the patron has a single-day pass, a multi-day pass, or an annual pass.\n",
    "\n",
    "---\n",
    "\n",
    "**A programmer has created a program that models the growth of foxes and rabbits. Which of the following potential aspects of the simulation does NOT need to be implemented?**\n",
    "\n",
    "- A. A representation of grass that rabbits must eat frequently to survive.\n",
    "- B. Each rabbit may only have a certain amount of children per litter.\n",
    "- C. Each fox must eat a rabbit frequently to survive.\n",
    "- D. Each rabbit can only live to a certain age, assuming that they are not eaten.\n",
    "\n",
    "---\n",
    "\n",
    "**The heavy use of chemicals called chlorofluorocarbons (CFCs) has caused damage to the Earth’s ozone layer, creating a noticeable hole over Antarctica. A scientist created a simulation of the hole in the layer using a computer, which models the growth of the hole over many years. Which of the following could be useful information that the simulation could produce?**\n",
    "\n",
    "- A. The approximate length of time until the hole would be refilled (due to various atmospheric processes)\n",
    "- B. The exact size of the hole at any given point in time\n",
    "- C. The exact length of time until the hole would be refilled (due to various atmospheric processes)\n",
    "- D. The exact depth of the hole at any point in time\n",
    "\n",
    "---\n",
    "\n",
    "**Suppose that an environmentalist wanted to understand the spread of invasive species. What would be a benefit of doing this with a simulation, rather than in real life?**\n",
    "\n",
    "- A. The species used in the simulation could be designed to mimic many different species at once.\n",
    "- B. The species created could be quickly tested in multiple environments to better understand how its spread is affected by environmental factors.\n",
    "- C. The simulation could be run much more quickly than in real life.\n",
    "- D. All of the above\n",
    "\n",
    "---\n",
    "\n",
    "**A program is being created to simulate the growth of a brain-based on randomly determined environmental factors. The developer plans to add a feature that lets the user quickly run several hundred simulations with any number of factors kept constant. Why would this be useful? Select two answers.**\n",
    "\n",
    "- A. It would allow the user to gather data without taxing the computer’s hardware.\n",
    "- B. It would allow the user to see the effect of specific variables by ensuring that the others do not change.\n",
    "- C. It would quickly provide the user with a large amount of data.\n",
    "- D. It would make simulations more detailed.\n",
    "\n",
    "---\n",
    "\n",
    "**Which of the following statements describes a limitation of using a computer simulation to model a real-world object or system?**\n",
    "- A. Computer simulations can only be built afer the real-world object or system has been\n",
    "created.\n",
    "- B. Computer simulations only run on very powerful computers that are not available to the\n",
    "general public.\n",
    "- C. Computer simulations usually make some simplifying assumptions about the real-world\n",
    "object or system being modeled.\n",
    "(D) It is difcult to change input parameters or conditions when using computer simulations."
   ]
  }
 ],
 "metadata": {
  "kernelspec": {
   "display_name": "base",
   "language": "python",
   "name": "python3"
  },
  "language_info": {
   "name": "python",
   "version": "3.9.12"
  },
  "orig_nbformat": 4
 },
 "nbformat": 4,
 "nbformat_minor": 2
}
