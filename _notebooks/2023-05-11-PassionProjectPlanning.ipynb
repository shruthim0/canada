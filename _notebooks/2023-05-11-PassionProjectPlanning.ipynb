{
 "cells": [
  {
   "attachments": {},
   "cell_type": "markdown",
   "metadata": {},
   "source": [
    "# Passion Project Planning\n",
    "- title: Passion Project Planning\n",
    "- toc: true\n",
    "- layout: base\n",
    "- badges: true\n",
    "- categories: [. Practice]\n",
    "- description: This is our week to week planning for our final project "
   ]
  },
  {
   "attachments": {},
   "cell_type": "markdown",
   "metadata": {},
   "source": [
    "## First Week \n",
    "- In the first week we hope to create the repositrory and work on the CSS of the website. Mostly what the website looks like and where features will be\n",
    "- We will add the map of the colleges and find all of the colleges and places we are going to implement to our website. \n",
    "- We will add the search bar with no functionality and the user reviews boxes with no code\n",
    "\n",
    "## Second Week \n",
    "- We will start adding different elements to each college through lists a dictionaries. The different elements will be things such as weather, sports, size, academics, location, etc. \n",
    "    - This will help the search feature and the input for what the user is looking for in a college\n",
    "    - We may also start adding the colleges to the map a functions to the map such as clicking on a state and seeing more information about that state. \n",
    "    - We will start coding the search feature \n",
    "    - We will start coding the college intrest feature by implementing what kind of filters we will put\n",
    "        - Things such as do you want to live in the South or North?, do you want a big college or small college?\n",
    "- This week will mostly be coding. We will connect the search feature to the different elements and names of the colleges. \n",
    "- We will also inhance the college search feature by connecting the different elements of the colleges to the college intrest feature. So if someone selecects they want a big college, all the small college from the list will be removed. \n",
    "\n",
    "## Third Week\n",
    "- We will finish our map feature by adding all the colleges of each state and allowing the user to click those colleges and learn information about them\n",
    "- We will wrap up our search feature by having it display all of the colleges with keys that the user input\n",
    "- We will clean up our UI if there are any problems. \n",
    "- We will also finish our college intrest feature by having it display all of the colleges that match what the user inputed is their intrest. \n",
    "\n"
   ]
  }
 ],
 "metadata": {
  "language_info": {
   "name": "python"
  },
  "orig_nbformat": 4
 },
 "nbformat": 4,
 "nbformat_minor": 2
}
