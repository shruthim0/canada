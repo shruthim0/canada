{
 "cells": [
  {
   "cell_type": "markdown",
   "metadata": {},
   "source": [
    "# Simulations Questions\n",
    "- toc: true"
   ]
  },
  {
   "attachments": {},
   "cell_type": "markdown",
   "metadata": {},
   "source": [
    "#### College Board and Simulation Questions to Discuss and Answer"
   ]
  },
  {
   "attachments": {},
   "cell_type": "markdown",
   "metadata": {},
   "source": [
    "**A theme park wants to create a simulation to determine how long it should expect the wait time at its most popular ride. Which of the following characteristics for the virtual patrons would be most useful? Select two answers**\n",
    "\n",
    "- A. Ride preference—denotes whether a patron prefers roller coasters, other thrill rides, gentle rides, or no rides.\n",
    "- B. Walking preference—denotes how far a patron is willing to walk in between rides.\n",
    "- C. Food preference—denotes the type of food that a patron prefers to eat (e.g., chicken, burgers, salads).\n",
    "- D. Ticket type—denotes whether the patron has a single-day pass, a multi-day pass, or an annual pass.\n",
    "\n",
    "---\n",
    "\n",
    "**A programmer has created a program that models the growth of foxes and rabbits. Which of the following potential aspects of the simulation does NOT need to be implemented?**\n",
    "\n",
    "- A. A representation of grass that rabbits must eat frequently to survive.\n",
    "- B. Each rabbit may only have a certain amount of children per litter.\n",
    "- C. Each fox must eat a rabbit frequently to survive.\n",
    "- D. Each rabbit can only live to a certain age, assuming that they are not eaten.\n",
    "\n",
    "---\n",
    "\n",
    "**The heavy use of chemicals called chlorofluorocarbons (CFCs) has caused damage to the Earth’s ozone layer, creating a noticeable hole over Antarctica. A scientist created a simulation of the hole in the layer using a computer, which models the growth of the hole over many years. Which of the following could be useful information that the simulation could produce?**\n",
    "\n",
    "- A. The approximate length of time until the hole would be refilled (due to various atmospheric processes)\n",
    "- B. The exact size of the hole at any given point in time\n",
    "- C. The exact length of time until the hole would be refilled (due to various atmospheric processes)\n",
    "- D. The exact depth of the hole at any point in time\n",
    "\n",
    "---\n",
    "\n",
    "**Suppose that an environmentalist wanted to understand the spread of invasive species. What would be a benefit of doing this with a simulation, rather than in real life?**\n",
    "\n",
    "- A. The species used in the simulation could be designed to mimic many different species at once.\n",
    "- B. The species created could be quickly tested in multiple environments to better understand how its spread is affected by environmental factors.\n",
    "- C. The simulation could be run much more quickly than in real life.\n",
    "- D. All of the above\n",
    "\n",
    "---\n",
    "\n",
    "**A program is being created to simulate the growth of a brain-based on randomly determined environmental factors. The developer plans to add a feature that lets the user quickly run several hundred simulations with any number of factors kept constant. Why would this be useful? Select two answers.**\n",
    "\n",
    "- A. It would allow the user to gather data without taxing the computer’s hardware.\n",
    "- B. It would allow the user to see the effect of specific variables by ensuring that the others do not change.\n",
    "- C. It would quickly provide the user with a large amount of data.\n",
    "- D. It would make simulations more detailed.\n",
    "\n",
    "---\n",
    "\n",
    "**Which of the following statements describes a limitation of using a computer simulation to model a real-world object or system?**\n",
    "- A. Computer simulations can only be built afer the real-world object or system has been\n",
    "created.\n",
    "- B. Computer simulations only run on very powerful computers that are not available to the\n",
    "general public.\n",
    "- C. Computer simulations usually make some simplifying assumptions about the real-world\n",
    "object or system being modeled.\n",
    "- D. It is difficult to change input parameters or conditions when using computer simulations."
   ]
  }
 ],
 "metadata": {
  "language_info": {
   "name": "python"
  },
  "orig_nbformat": 4
 },
 "nbformat": 4,
 "nbformat_minor": 2
}
