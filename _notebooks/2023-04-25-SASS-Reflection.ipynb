{
 "cells": [
  {
   "attachments": {},
   "cell_type": "markdown",
   "metadata": {},
   "source": [
    "# SASS Lecture Group Reflection"
   ]
  },
  {
   "attachments": {},
   "cell_type": "markdown",
   "metadata": {},
   "source": [
    "## Part 1: Reflections 0.4 Points\n",
    "- Write a short description of each key feature of Sass and compare it to how it to CSS and how using Sass makes your life easier when using all the features. Include examples of how it would have made prior features from past projects simpler to implement. Also answer the questions indicated as hack questions."
   ]
  },
  {
   "attachments": {},
   "cell_type": "markdown",
   "metadata": {},
   "source": [
    "## Modular SCSS - Lydia"
   ]
  },
  {
   "attachments": {},
   "cell_type": "markdown",
   "metadata": {},
   "source": [
    "## Nesting - Jake\n",
    "\n",
    "- Nesting organizes your code and makes it much simpler by combining different sectors of CSS into one sector. \n",
    "    - Lets you next CSS like HTML\n",
    "- Combines different rules\n",
    "- It makes your life easier because it requires less code and puts all of your work into one place\n",
    "    - You don’t have to use all of the different features separately but you can combine them. \n",
    "- It would have made one of my past assignments easier by allowing me to combine all of sectors of my CPT project into one section"
   ]
  },
  {
   "attachments": {},
   "cell_type": "markdown",
   "metadata": {},
   "source": [
    "## Variables - Lydia"
   ]
  },
  {
   "attachments": {},
   "cell_type": "markdown",
   "metadata": {},
   "source": [
    "## Operators - Lydia"
   ]
  },
  {
   "attachments": {},
   "cell_type": "markdown",
   "metadata": {},
   "source": [
    "## Conditional Statements - Jake\n",
    "- Are “if” statements like in python\n",
    "    - Used to make an output based on certain conditions\n",
    "    - You can change style based on certain conditions which could make your life easier\n",
    "- These can make your life easier because it allows you to change the way your website looks based on inputs and conditions\n",
    "- I could have used this in my CPT project so when the user input a certain thing It would pop up images and paragraphs in the SASS style which would make my website look better overall. \n"
   ]
  },
  {
   "attachments": {},
   "cell_type": "markdown",
   "metadata": {},
   "source": [
    "## Loops in SASS - Sarah"
   ]
  },
  {
   "attachments": {},
   "cell_type": "markdown",
   "metadata": {},
   "source": [
    "## Functions - Sarah"
   ]
  },
  {
   "attachments": {},
   "cell_type": "markdown",
   "metadata": {},
   "source": [
    "## Mix-Ins - Lina\n",
    "\n",
    "- Mix-ins are a key feature in Sass that can group the code to create a reusable feature.\n",
    "    - It acts as a template and saves time in place of rewriting code. \n",
    "- Using Sass will make your life because it prevents rewriting code and overall creates a more organized and easier-to-read code. \n",
    "- Mix-ins could be implemented into my past projects to make my process simpler\n",
    "    - My CPT group could have grouped the code and used @mixin and @include to reuse the code without repetition."
   ]
  },
  {
   "attachments": {},
   "cell_type": "markdown",
   "metadata": {},
   "source": [
    "## Inheritance - Lina\n",
    "\n",
    "- Inheritance is a Sass feature with a similar purpose to mix ins in terms of reusability\n",
    "- There is a child class that inherits code from a parent class\n",
    "    - This child class has the option to have modified code and not an exact copy\n",
    "- This make our lives easier because we can use the code in multiple ways and even change it slightly\n",
    "- All the changes are easily manipulated and it is very efficient\n",
    "- I would use this in my past projects because when I was creating the front end of my CPT, there was a lot of code I could have reused in a modified way\n",
    "    - I would have used @extend .name-of-class to add more styles and use this inheritance\n"
   ]
  }
 ],
 "metadata": {
  "language_info": {
   "name": "python"
  },
  "orig_nbformat": 4
 },
 "nbformat": 4,
 "nbformat_minor": 2
}
